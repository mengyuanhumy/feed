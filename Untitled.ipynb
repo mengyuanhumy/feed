{
 "cells": [
  {
   "cell_type": "code",
   "execution_count": 13,
   "metadata": {},
   "outputs": [
    {
     "name": "stdout",
     "output_type": "stream",
     "text": [
      "success: effect row: 12\n",
      "(('饼干', 0.384615, 4, datetime.datetime(2020, 5, 23, 21, 19), datetime.datetime(2020, 5, 13, 21, 19)), ('果泥', 0.0294118, 2, datetime.datetime(2020, 7, 20, 21, 19), datetime.datetime(2020, 5, 13, 21, 19)), ('海绵宝宝', 0.461538, 6, datetime.datetime(2020, 5, 26, 21, 19), datetime.datetime(2020, 5, 13, 21, 19)), ('核桃油', 0.0547945, 0, datetime.datetime(2020, 5, 13, 21, 19), datetime.datetime(2020, 5, 13, 21, 19)), ('面条', 0.0441176, 2, datetime.datetime(2020, 6, 27, 21, 19), datetime.datetime(2020, 5, 13, 21, 19)), ('奶粉', 0.084507, 1, datetime.datetime(2020, 5, 25, 21, 19), datetime.datetime(2020, 5, 13, 21, 19)), ('泡芙', 0.333333, 5, datetime.datetime(2020, 5, 28, 21, 19), datetime.datetime(2020, 5, 13, 21, 19)), ('日用纸尿裤', 13.0303, 96, datetime.datetime(2020, 5, 20, 21, 19), datetime.datetime(2020, 5, 13, 21, 19)), ('十谷米', 0.11236, 3, datetime.datetime(2020, 6, 9, 21, 19), datetime.datetime(2020, 5, 13, 21, 19)), ('夜用纸尿裤', 3.63636, 36, datetime.datetime(2020, 5, 23, 21, 19), datetime.datetime(2020, 5, 13, 21, 19)), ('意大利面', 0.0833333, 1, datetime.datetime(2020, 5, 25, 21, 19), datetime.datetime(2020, 5, 13, 21, 19)), ('米粉', 0.1, 1, datetime.datetime(2020, 5, 23, 21, 19), datetime.datetime(2020, 5, 13, 21, 19)))\n",
      "close success\n",
      "饼干\n",
      "0.384615\n",
      "4\n",
      "2020-05-23 21:19:00\n",
      "2020-05-13 21:19:00\n",
      "果泥\n",
      "0.0294118\n",
      "2\n",
      "2020-07-20 21:19:00\n",
      "2020-05-13 21:19:00\n",
      "海绵宝宝\n",
      "0.461538\n",
      "6\n",
      "2020-05-26 21:19:00\n",
      "2020-05-13 21:19:00\n",
      "核桃油\n",
      "0.0547945\n",
      "0\n",
      "2020-05-13 21:19:00\n",
      "2020-05-13 21:19:00\n",
      "面条\n",
      "0.0441176\n",
      "2\n",
      "2020-06-27 21:19:00\n",
      "2020-05-13 21:19:00\n",
      "奶粉\n",
      "0.084507\n",
      "1\n",
      "2020-05-25 21:19:00\n",
      "2020-05-13 21:19:00\n",
      "泡芙\n",
      "0.333333\n",
      "5\n",
      "2020-05-28 21:19:00\n",
      "2020-05-13 21:19:00\n",
      "日用纸尿裤\n",
      "13.0303\n",
      "96\n",
      "2020-05-20 21:19:00\n",
      "2020-05-13 21:19:00\n",
      "十谷米\n",
      "0.11236\n",
      "3\n",
      "2020-06-09 21:19:00\n",
      "2020-05-13 21:19:00\n",
      "夜用纸尿裤\n",
      "3.63636\n",
      "36\n",
      "2020-05-23 21:19:00\n",
      "2020-05-13 21:19:00\n",
      "意大利面\n",
      "0.0833333\n",
      "1\n",
      "2020-05-25 21:19:00\n",
      "2020-05-13 21:19:00\n",
      "米粉\n",
      "0.1\n",
      "1\n",
      "2020-05-23 21:19:00\n",
      "2020-05-13 21:19:00\n"
     ]
    }
   ],
   "source": [
    "from mysql.sqlConnect import *\n",
    "query=\"SELECT DISTINCT cn_name, speed, remain, deplete_date,gen_date FROM item JOIN product ON item.name=product.name\"\n",
    "param=''\n",
    "sqlConnection()\n",
    "res=sqlSelect(query,'')\n",
    "print(res)\n",
    "sqlDisconnection()\n",
    "\n",
    "\n",
    "for value in res:\n",
    "    for e in value:\n",
    "        print (e)"
   ]
  },
  {
   "cell_type": "code",
   "execution_count": 2,
   "metadata": {},
   "outputs": [
    {
     "name": "stdout",
     "output_type": "stream",
     "text": [
      "SELECT item_report()的返回值： ((13,),)\n"
     ]
    }
   ],
   "source": [
    "import pymysql\n",
    "conn=pymysql.connect(\n",
    "        host='localhost',\n",
    "        port=3306,\n",
    "        user='python',\n",
    "        password='python',\n",
    "        db='feed',\n",
    "        charset='utf8'\n",
    "        )\n",
    "cursor=conn.cursor()#得到信息是以字典的形式\n",
    "sql ='SELECT item_report()'\n",
    "cursor.execute(sql)\n",
    "a=cursor.fetchall()\n",
    "print('SELECT item_report()的返回值：',a)\n",
    "\n",
    "cursor.close()\n",
    "conn.close()"
   ]
  },
  {
   "cell_type": "code",
   "execution_count": null,
   "metadata": {},
   "outputs": [],
   "source": []
  }
 ],
 "metadata": {
  "kernelspec": {
   "display_name": "Python 3",
   "language": "python",
   "name": "python3"
  },
  "language_info": {
   "codemirror_mode": {
    "name": "ipython",
    "version": 3
   },
   "file_extension": ".py",
   "mimetype": "text/x-python",
   "name": "python",
   "nbconvert_exporter": "python",
   "pygments_lexer": "ipython3",
   "version": "3.7.7"
  }
 },
 "nbformat": 4,
 "nbformat_minor": 4
}

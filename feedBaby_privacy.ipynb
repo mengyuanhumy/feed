{
 "cells": [
  {
   "cell_type": "markdown",
   "metadata": {},
   "source": [
    "# 记录采购和预测下次补货时间"
   ]
  },
  {
   "cell_type": "markdown",
   "metadata": {},
   "source": [
    "## 计算公式"
   ]
  },
  {
   "cell_type": "code",
   "execution_count": null,
   "metadata": {},
   "outputs": [],
   "source": [
    "import time\n",
    "def newPurchase(p_date,p_item):\n",
    "    \"\"\"\n",
    "    p_date [str]\n",
    "    p_item [tuple]\n",
    "    \"\"\"\n",
    "    return 0\n",
    "\n",
    "def newConsume(c_date,c_item):\n",
    "    \"\"\"\n",
    "    c_date [str]\n",
    "    c_item [tuple]\n",
    "    \"\"\"\n",
    "    return 0\n",
    "\n",
    "def runReset():\n",
    "    \"\"\"\n",
    "    \"\"\"\n",
    "    return 0\n",
    "\n",
    "def checkAll():\n",
    "    \"\"\"\n",
    "    \"\"\"\n",
    "    return 0\n",
    "\n",
    "def checkRecent(last_date):\n",
    "    \"\"\"\"\"\""
   ]
  },
  {
   "cell_type": "code",
   "execution_count": 4,
   "metadata": {},
   "outputs": [
    {
     "ename": "SyntaxError",
     "evalue": "invalid syntax (<ipython-input-4-baaf97da1ce7>, line 1)",
     "output_type": "error",
     "traceback": [
      "\u001b[1;36m  File \u001b[1;32m\"<ipython-input-4-baaf97da1ce7>\"\u001b[1;36m, line \u001b[1;32m1\u001b[0m\n\u001b[1;33m    <html>\u001b[0m\n\u001b[1;37m    ^\u001b[0m\n\u001b[1;31mSyntaxError\u001b[0m\u001b[1;31m:\u001b[0m invalid syntax\n"
     ]
    }
   ],
   "source": [
    "<html>\n",
    "    <head>\n",
    "        <title>表单练习</title>\n",
    "        <meta charset=\"utf-8\"/>\n",
    "    </head>\n",
    "    <body>\n",
    "        <form action=\"http://www.baidu.com\">\n",
    "            <fieldset>\n",
    "                <legend>注册页面</legend>\n",
    "                <p>\n",
    "                    账号：<input type=\"text\" placeholder=\"请输入你的用户名\" name=\"user\">\n",
    "                </p>\n",
    " \n",
    "                <p>\n",
    "                    密码：<input type=\"password\" placeholder=\"请输入你的密码\" name=\"password\">\n",
    "                </p>\n",
    " \n",
    "                <p>\n",
    "                    性别：\n",
    "                    <input type=\"radio\" name=\"gender\" value=\"male\">男\n",
    "                    <input type=\"radio\" name=\"gender\" value=\"female\">女\n",
    "                    <input type=\"radio\" name=\"gender\" checked=\"checked\" value=\"none\">保密\n",
    "                </p>\n",
    " \n",
    "                <p>\n",
    "                    <!--注意点：单选框or复选框都需要指定相同的name值-->\n",
    "                    爱好：\n",
    "                    <input type=\"checkbox\" name=\"sport\" value=\"basketball\">篮球\n",
    "                    <input type=\"checkbox\" name=\"sport\" value=\"football\">足球\n",
    "                    <input type=\"checkbox\" checked=\"checked\" name=\"sport\" value=\"crazy\">足浴\n",
    "                </p>\n",
    " \n",
    "                <p>\n",
    "                    简介：\n",
    "                    <textarea name=\"\" id=\"\" cols=\"30\" rows=\"10\" name=\"desc\"></textarea>\n",
    "                </p>\n",
    " \n",
    "                <p>\n",
    "                    生日：\n",
    "                    <input type=\"date\" name=\"birth\">\n",
    "                </p>\n",
    " \n",
    "                <p>\n",
    "                    邮箱：\n",
    "                    <input type=\"email\" name=\"email\">\n",
    "                </p>\n",
    " \n",
    "                <p>\n",
    "                    电话：\n",
    "                    <input type=\"number\" name=\"phone\">\n",
    "                </p>\n",
    " \n",
    "                <p>\n",
    "                    <input type=\"submit\" value=\"注册\">    \n",
    "                    <input type=\"reset\" value=\"清空\">\n",
    "                </p>\n",
    " \n",
    "            </fieldset>\n",
    "        </form>\n",
    " \n",
    "    </body>\n",
    "</html>\n"
   ]
  },
  {
   "cell_type": "code",
   "execution_count": null,
   "metadata": {},
   "outputs": [],
   "source": []
  }
 ],
 "metadata": {
  "kernelspec": {
   "display_name": "Python 3",
   "language": "python",
   "name": "python3"
  },
  "language_info": {
   "codemirror_mode": {
    "name": "ipython",
    "version": 3
   },
   "file_extension": ".py",
   "mimetype": "text/x-python",
   "name": "python",
   "nbconvert_exporter": "python",
   "pygments_lexer": "ipython3",
   "version": "3.7.7"
  }
 },
 "nbformat": 4,
 "nbformat_minor": 4
}
